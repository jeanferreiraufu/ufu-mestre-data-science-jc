{
 "cells": [
  {
   "cell_type": "code",
   "execution_count": null,
   "metadata": {},
   "outputs": [],
   "source": [
    "%pip install ultralytics"
   ]
  },
  {
   "cell_type": "code",
   "execution_count": null,
   "metadata": {},
   "outputs": [],
   "source": [
    "%pip install duckdb\n",
    "%pip install ultralytics[explorer]"
   ]
  },
  {
   "cell_type": "code",
   "execution_count": null,
   "metadata": {},
   "outputs": [],
   "source": [
    "from ultralytics import YOLO\n",
    "from PIL import Image\n",
    "\n",
    "# Load a pretrained YOLOv8n model\n",
    "model = YOLO(\"yolov8n.pt\")\n",
    "\n",
    "# Define remote image or video URL: zidane.jpg, bus.jpg, zidane.mp4, bus.mp4, https://ultralytics.com/images/bus.jpg\n",
    "source1 = \"https://ultralytics.com/images/bus.jpg\"\n",
    "source2 = \"https://ultralytics.com/images/zidane.jpg\"\n",
    "\n",
    "# Run inference on the source\n",
    "results = model([source1, source2])  # list of Results objects\n",
    "\n",
    "# Visualize the results\n",
    "for i, r in enumerate(results):\n",
    "    # Plot results image\n",
    "    im_bgr = r.plot()  # BGR-order numpy array\n",
    "    im_rgb = Image.fromarray(im_bgr[..., ::-1])  # RGB-order PIL image\n",
    "\n",
    "    # Show results to screen (in supported environments)\n",
    "    r.show()\n",
    "\n",
    "    # Save results to disk\n",
    "    r.save(filename=f\"output\\results{i}.jpg\")"
   ]
  },
  {
   "cell_type": "code",
   "execution_count": null,
   "metadata": {},
   "outputs": [],
   "source": [
    "from threading import Thread\n",
    "\n",
    "from ultralytics import YOLO\n",
    "\n",
    "\n",
    "def thread_safe_predict(image_path):\n",
    "    \"\"\"Performs thread-safe prediction on an image using a locally instantiated YOLO model.\"\"\"\n",
    "    local_model = YOLO(\"yolov8n.pt\")\n",
    "    results = local_model.predict(image_path)\n",
    "    # Process results\n",
    "\n",
    "\n",
    "# Starting threads that each have their own model instance\n",
    "Thread(target=thread_safe_predict, args=(\"https://ultralytics.com/images/bus.jpg\",)).start()\n",
    "Thread(target=thread_safe_predict, args=(\"https://ultralytics.com/images/zidane.jpg\",)).start()"
   ]
  },
  {
   "cell_type": "code",
   "execution_count": null,
   "metadata": {},
   "outputs": [],
   "source": [
    "from ultralytics import YOLO\n",
    "\n",
    "model = YOLO(\"yolov8n.pt\")\n",
    "\n",
    "# Load a youtube video gynastics.mp4\n",
    "video = \"https://www.youtube.com/watch?v=V7f8vz9u8xg\"\n",
    "\n",
    "results = model.track(source=video, show=True, save=True, tracker=\"bytetrack.yaml\")"
   ]
  }
 ],
 "metadata": {
  "kernelspec": {
   "display_name": ".venv",
   "language": "python",
   "name": "python3"
  },
  "language_info": {
   "codemirror_mode": {
    "name": "ipython",
    "version": 3
   },
   "file_extension": ".py",
   "mimetype": "text/x-python",
   "name": "python",
   "nbconvert_exporter": "python",
   "pygments_lexer": "ipython3",
   "version": "3.12.1"
  }
 },
 "nbformat": 4,
 "nbformat_minor": 2
}
